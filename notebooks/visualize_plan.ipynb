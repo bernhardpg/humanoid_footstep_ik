{
 "cells": [
  {
   "cell_type": "code",
   "execution_count": 1,
   "metadata": {},
   "outputs": [],
   "source": [
    "from pathlib import Path\n",
    "import numpy as np\n",
    "\n",
    "from pydrake.geometry.all import MeshcatVisualizer\n",
    "\n",
    "from pydrake.multibody.plant import (\n",
    "    AddMultibodyPlantSceneGraph,\n",
    ")\n",
    "from pydrake.systems.analysis import Simulator\n",
    "from pydrake.systems.framework import Context, DiagramBuilder\n",
    "from pydrake.geometry import Rgba, Role, SceneGraph, StartMeshcat\n"
   ]
  },
  {
   "cell_type": "markdown",
   "metadata": {},
   "source": [
    "#### Set the working directory to the repo source"
   ]
  },
  {
   "cell_type": "code",
   "execution_count": 2,
   "metadata": {},
   "outputs": [],
   "source": [
    "import os\n",
    "os.chdir(Path(\"../\"))"
   ]
  },
  {
   "cell_type": "markdown",
   "metadata": {},
   "source": [
    "#### Set up Multibodyplant etc"
   ]
  },
  {
   "cell_type": "code",
   "execution_count": 3,
   "metadata": {},
   "outputs": [
    {
     "name": "stderr",
     "output_type": "stream",
     "text": [
      "INFO:drake:Meshcat listening for connections at http://localhost:7002\n"
     ]
    }
   ],
   "source": [
    "meshcat = StartMeshcat()\n",
    "\n",
    "builder = DiagramBuilder()\n",
    "plant, scene_graph = AddMultibodyPlantSceneGraph(builder, time_step=0.001)\n",
    "\n",
    "visualizer = MeshcatVisualizer.AddToBuilder(builder, scene_graph, meshcat)\n",
    "diagram = builder.Build()"
   ]
  },
  {
   "cell_type": "markdown",
   "metadata": {},
   "source": [
    "#### Load trajectory file"
   ]
  },
  {
   "cell_type": "code",
   "execution_count": 4,
   "metadata": {},
   "outputs": [],
   "source": [
    "from humanoid_footstep_ik.visualizer import FootstepTrajectory\n",
    "\n",
    "\n",
    "# Put the trajectory file in the repo source folder in a folder named 'data\n",
    "datapath = Path(\"data/example_data.pkl\")\n",
    "traj = FootstepTrajectory.load(datapath)\n",
    "\n",
    "# TODO: The current height doesn't work with IK\n",
    "traj.com_z = 0.8"
   ]
  },
  {
   "cell_type": "markdown",
   "metadata": {},
   "source": [
    "Define which indices we will visualize atlas for"
   ]
  },
  {
   "cell_type": "code",
   "execution_count": 5,
   "metadata": {},
   "outputs": [],
   "source": [
    "num_atlas_frames = 3\n",
    "# NOTE: Here we evenly space out the frames based on the number above.\n",
    "# Replace this logic with manual frames if desired!\n",
    "\n",
    "# Pick out the indices to visualize, so that we start with the first and end with the last,\n",
    "# and add as many as needed in between to reach viz_params.num_atlas_frames in total.\n",
    "step_length = int(np.floor(len(traj) / (num_atlas_frames - 1)))\n",
    "indices_to_visualize = np.arange(0, len(traj), step_length)\n",
    "if indices_to_visualize[-1] != len(traj) - 1:\n",
    "    indices_to_visualize = np.concatenate([indices_to_visualize, [len(traj) - 1]])\n",
    "\n",
    "indices_to_visualize = indices_to_visualize.tolist()"
   ]
  },
  {
   "cell_type": "markdown",
   "metadata": {},
   "source": [
    "Create visualization objects in meshcat (this must be done BEFORE calling plant.Finalize())"
   ]
  },
  {
   "cell_type": "code",
   "execution_count": 6,
   "metadata": {},
   "outputs": [
    {
     "name": "stderr",
     "output_type": "stream",
     "text": [
      "WARNING:drake:/private/var/tmp/.cache_bernhardpg/drake/package_map/49284e3afc7c6ccd80b0c605f070c53ef0bb5d1d96330cf15e87c68d804e78a8-178578bad0b90f28768b2e80f2688fa778c9eaa6a5b44b1043272622f95ec888/atlas/atlas_minimal_contact.urdf:560: warning: The tag 'safety_controller' found as a child of 'joint' is currently unsupported and will be ignored.\n",
      "WARNING:drake:/private/var/tmp/.cache_bernhardpg/drake/package_map/49284e3afc7c6ccd80b0c605f070c53ef0bb5d1d96330cf15e87c68d804e78a8-178578bad0b90f28768b2e80f2688fa778c9eaa6a5b44b1043272622f95ec888/atlas/atlas_minimal_contact.urdf:569: warning: The tag 'safety_controller' found as a child of 'joint' is currently unsupported and will be ignored.\n",
      "WARNING:drake:/private/var/tmp/.cache_bernhardpg/drake/package_map/49284e3afc7c6ccd80b0c605f070c53ef0bb5d1d96330cf15e87c68d804e78a8-178578bad0b90f28768b2e80f2688fa778c9eaa6a5b44b1043272622f95ec888/atlas/atlas_minimal_contact.urdf:578: warning: The tag 'safety_controller' found as a child of 'joint' is currently unsupported and will be ignored.\n",
      "WARNING:drake:/private/var/tmp/.cache_bernhardpg/drake/package_map/49284e3afc7c6ccd80b0c605f070c53ef0bb5d1d96330cf15e87c68d804e78a8-178578bad0b90f28768b2e80f2688fa778c9eaa6a5b44b1043272622f95ec888/atlas/atlas_minimal_contact.urdf:587: warning: The tag 'safety_controller' found as a child of 'joint' is currently unsupported and will be ignored.\n",
      "WARNING:drake:/private/var/tmp/.cache_bernhardpg/drake/package_map/49284e3afc7c6ccd80b0c605f070c53ef0bb5d1d96330cf15e87c68d804e78a8-178578bad0b90f28768b2e80f2688fa778c9eaa6a5b44b1043272622f95ec888/atlas/atlas_minimal_contact.urdf:596: warning: The tag 'safety_controller' found as a child of 'joint' is currently unsupported and will be ignored.\n",
      "WARNING:drake:/private/var/tmp/.cache_bernhardpg/drake/package_map/49284e3afc7c6ccd80b0c605f070c53ef0bb5d1d96330cf15e87c68d804e78a8-178578bad0b90f28768b2e80f2688fa778c9eaa6a5b44b1043272622f95ec888/atlas/atlas_minimal_contact.urdf:605: warning: The tag 'safety_controller' found as a child of 'joint' is currently unsupported and will be ignored.\n",
      "WARNING:drake:/private/var/tmp/.cache_bernhardpg/drake/package_map/49284e3afc7c6ccd80b0c605f070c53ef0bb5d1d96330cf15e87c68d804e78a8-178578bad0b90f28768b2e80f2688fa778c9eaa6a5b44b1043272622f95ec888/atlas/atlas_minimal_contact.urdf:614: warning: The tag 'safety_controller' found as a child of 'joint' is currently unsupported and will be ignored.\n",
      "WARNING:drake:/private/var/tmp/.cache_bernhardpg/drake/package_map/49284e3afc7c6ccd80b0c605f070c53ef0bb5d1d96330cf15e87c68d804e78a8-178578bad0b90f28768b2e80f2688fa778c9eaa6a5b44b1043272622f95ec888/atlas/atlas_minimal_contact.urdf:623: warning: The tag 'safety_controller' found as a child of 'joint' is currently unsupported and will be ignored.\n",
      "WARNING:drake:/private/var/tmp/.cache_bernhardpg/drake/package_map/49284e3afc7c6ccd80b0c605f070c53ef0bb5d1d96330cf15e87c68d804e78a8-178578bad0b90f28768b2e80f2688fa778c9eaa6a5b44b1043272622f95ec888/atlas/atlas_minimal_contact.urdf:632: warning: The tag 'safety_controller' found as a child of 'joint' is currently unsupported and will be ignored.\n",
      "WARNING:drake:/private/var/tmp/.cache_bernhardpg/drake/package_map/49284e3afc7c6ccd80b0c605f070c53ef0bb5d1d96330cf15e87c68d804e78a8-178578bad0b90f28768b2e80f2688fa778c9eaa6a5b44b1043272622f95ec888/atlas/atlas_minimal_contact.urdf:641: warning: The tag 'safety_controller' found as a child of 'joint' is currently unsupported and will be ignored.\n",
      "WARNING:drake:/private/var/tmp/.cache_bernhardpg/drake/package_map/49284e3afc7c6ccd80b0c605f070c53ef0bb5d1d96330cf15e87c68d804e78a8-178578bad0b90f28768b2e80f2688fa778c9eaa6a5b44b1043272622f95ec888/atlas/atlas_minimal_contact.urdf:650: warning: The tag 'safety_controller' found as a child of 'joint' is currently unsupported and will be ignored.\n",
      "WARNING:drake:/private/var/tmp/.cache_bernhardpg/drake/package_map/49284e3afc7c6ccd80b0c605f070c53ef0bb5d1d96330cf15e87c68d804e78a8-178578bad0b90f28768b2e80f2688fa778c9eaa6a5b44b1043272622f95ec888/atlas/atlas_minimal_contact.urdf:659: warning: The tag 'safety_controller' found as a child of 'joint' is currently unsupported and will be ignored.\n",
      "WARNING:drake:/private/var/tmp/.cache_bernhardpg/drake/package_map/49284e3afc7c6ccd80b0c605f070c53ef0bb5d1d96330cf15e87c68d804e78a8-178578bad0b90f28768b2e80f2688fa778c9eaa6a5b44b1043272622f95ec888/atlas/atlas_minimal_contact.urdf:668: warning: The tag 'safety_controller' found as a child of 'joint' is currently unsupported and will be ignored.\n",
      "WARNING:drake:/private/var/tmp/.cache_bernhardpg/drake/package_map/49284e3afc7c6ccd80b0c605f070c53ef0bb5d1d96330cf15e87c68d804e78a8-178578bad0b90f28768b2e80f2688fa778c9eaa6a5b44b1043272622f95ec888/atlas/atlas_minimal_contact.urdf:677: warning: The tag 'safety_controller' found as a child of 'joint' is currently unsupported and will be ignored.\n",
      "WARNING:drake:/private/var/tmp/.cache_bernhardpg/drake/package_map/49284e3afc7c6ccd80b0c605f070c53ef0bb5d1d96330cf15e87c68d804e78a8-178578bad0b90f28768b2e80f2688fa778c9eaa6a5b44b1043272622f95ec888/atlas/atlas_minimal_contact.urdf:686: warning: The tag 'safety_controller' found as a child of 'joint' is currently unsupported and will be ignored.\n",
      "WARNING:drake:/private/var/tmp/.cache_bernhardpg/drake/package_map/49284e3afc7c6ccd80b0c605f070c53ef0bb5d1d96330cf15e87c68d804e78a8-178578bad0b90f28768b2e80f2688fa778c9eaa6a5b44b1043272622f95ec888/atlas/atlas_minimal_contact.urdf:695: warning: The tag 'safety_controller' found as a child of 'joint' is currently unsupported and will be ignored.\n",
      "WARNING:drake:/private/var/tmp/.cache_bernhardpg/drake/package_map/49284e3afc7c6ccd80b0c605f070c53ef0bb5d1d96330cf15e87c68d804e78a8-178578bad0b90f28768b2e80f2688fa778c9eaa6a5b44b1043272622f95ec888/atlas/atlas_minimal_contact.urdf:704: warning: The tag 'safety_controller' found as a child of 'joint' is currently unsupported and will be ignored.\n",
      "WARNING:drake:/private/var/tmp/.cache_bernhardpg/drake/package_map/49284e3afc7c6ccd80b0c605f070c53ef0bb5d1d96330cf15e87c68d804e78a8-178578bad0b90f28768b2e80f2688fa778c9eaa6a5b44b1043272622f95ec888/atlas/atlas_minimal_contact.urdf:713: warning: The tag 'safety_controller' found as a child of 'joint' is currently unsupported and will be ignored.\n",
      "WARNING:drake:/private/var/tmp/.cache_bernhardpg/drake/package_map/49284e3afc7c6ccd80b0c605f070c53ef0bb5d1d96330cf15e87c68d804e78a8-178578bad0b90f28768b2e80f2688fa778c9eaa6a5b44b1043272622f95ec888/atlas/atlas_minimal_contact.urdf:722: warning: The tag 'safety_controller' found as a child of 'joint' is currently unsupported and will be ignored.\n",
      "WARNING:drake:/private/var/tmp/.cache_bernhardpg/drake/package_map/49284e3afc7c6ccd80b0c605f070c53ef0bb5d1d96330cf15e87c68d804e78a8-178578bad0b90f28768b2e80f2688fa778c9eaa6a5b44b1043272622f95ec888/atlas/atlas_minimal_contact.urdf:731: warning: The tag 'safety_controller' found as a child of 'joint' is currently unsupported and will be ignored.\n",
      "WARNING:drake:/private/var/tmp/.cache_bernhardpg/drake/package_map/49284e3afc7c6ccd80b0c605f070c53ef0bb5d1d96330cf15e87c68d804e78a8-178578bad0b90f28768b2e80f2688fa778c9eaa6a5b44b1043272622f95ec888/atlas/atlas_minimal_contact.urdf:740: warning: The tag 'safety_controller' found as a child of 'joint' is currently unsupported and will be ignored.\n",
      "WARNING:drake:/private/var/tmp/.cache_bernhardpg/drake/package_map/49284e3afc7c6ccd80b0c605f070c53ef0bb5d1d96330cf15e87c68d804e78a8-178578bad0b90f28768b2e80f2688fa778c9eaa6a5b44b1043272622f95ec888/atlas/atlas_minimal_contact.urdf:749: warning: The tag 'safety_controller' found as a child of 'joint' is currently unsupported and will be ignored.\n",
      "WARNING:drake:/private/var/tmp/.cache_bernhardpg/drake/package_map/49284e3afc7c6ccd80b0c605f070c53ef0bb5d1d96330cf15e87c68d804e78a8-178578bad0b90f28768b2e80f2688fa778c9eaa6a5b44b1043272622f95ec888/atlas/atlas_minimal_contact.urdf:758: warning: The tag 'safety_controller' found as a child of 'joint' is currently unsupported and will be ignored.\n",
      "WARNING:drake:/private/var/tmp/.cache_bernhardpg/drake/package_map/49284e3afc7c6ccd80b0c605f070c53ef0bb5d1d96330cf15e87c68d804e78a8-178578bad0b90f28768b2e80f2688fa778c9eaa6a5b44b1043272622f95ec888/atlas/atlas_minimal_contact.urdf:767: warning: The tag 'safety_controller' found as a child of 'joint' is currently unsupported and will be ignored.\n",
      "WARNING:drake:/private/var/tmp/.cache_bernhardpg/drake/package_map/49284e3afc7c6ccd80b0c605f070c53ef0bb5d1d96330cf15e87c68d804e78a8-178578bad0b90f28768b2e80f2688fa778c9eaa6a5b44b1043272622f95ec888/atlas/atlas_minimal_contact.urdf:776: warning: The tag 'safety_controller' found as a child of 'joint' is currently unsupported and will be ignored.\n",
      "WARNING:drake:/private/var/tmp/.cache_bernhardpg/drake/package_map/49284e3afc7c6ccd80b0c605f070c53ef0bb5d1d96330cf15e87c68d804e78a8-178578bad0b90f28768b2e80f2688fa778c9eaa6a5b44b1043272622f95ec888/atlas/atlas_minimal_contact.urdf:785: warning: The tag 'safety_controller' found as a child of 'joint' is currently unsupported and will be ignored.\n",
      "WARNING:drake:/private/var/tmp/.cache_bernhardpg/drake/package_map/49284e3afc7c6ccd80b0c605f070c53ef0bb5d1d96330cf15e87c68d804e78a8-178578bad0b90f28768b2e80f2688fa778c9eaa6a5b44b1043272622f95ec888/atlas/atlas_minimal_contact.urdf:794: warning: The tag 'safety_controller' found as a child of 'joint' is currently unsupported and will be ignored.\n",
      "WARNING:drake:/private/var/tmp/.cache_bernhardpg/drake/package_map/49284e3afc7c6ccd80b0c605f070c53ef0bb5d1d96330cf15e87c68d804e78a8-178578bad0b90f28768b2e80f2688fa778c9eaa6a5b44b1043272622f95ec888/atlas/atlas_minimal_contact.urdf:803: warning: The tag 'safety_controller' found as a child of 'joint' is currently unsupported and will be ignored.\n",
      "WARNING:drake:/private/var/tmp/.cache_bernhardpg/drake/package_map/49284e3afc7c6ccd80b0c605f070c53ef0bb5d1d96330cf15e87c68d804e78a8-178578bad0b90f28768b2e80f2688fa778c9eaa6a5b44b1043272622f95ec888/atlas/atlas_minimal_contact.urdf:812: warning: The tag 'safety_controller' found as a child of 'joint' is currently unsupported and will be ignored.\n",
      "WARNING:drake:/private/var/tmp/.cache_bernhardpg/drake/package_map/49284e3afc7c6ccd80b0c605f070c53ef0bb5d1d96330cf15e87c68d804e78a8-178578bad0b90f28768b2e80f2688fa778c9eaa6a5b44b1043272622f95ec888/atlas/atlas_minimal_contact.urdf:821: warning: The tag 'safety_controller' found as a child of 'joint' is currently unsupported and will be ignored.\n",
      "WARNING:drake:/private/var/tmp/.cache_bernhardpg/drake/package_map/49284e3afc7c6ccd80b0c605f070c53ef0bb5d1d96330cf15e87c68d804e78a8-178578bad0b90f28768b2e80f2688fa778c9eaa6a5b44b1043272622f95ec888/atlas/atlas_minimal_contact.urdf:1219: warning: Skipping transmission since it's attached to a fixed joint \"hokuyo_joint\".\n",
      "WARNING:drake:/private/var/tmp/.cache_bernhardpg/drake/package_map/49284e3afc7c6ccd80b0c605f070c53ef0bb5d1d96330cf15e87c68d804e78a8-178578bad0b90f28768b2e80f2688fa778c9eaa6a5b44b1043272622f95ec888/atlas/atlas_minimal_contact.urdf:560: warning: The tag 'safety_controller' found as a child of 'joint' is currently unsupported and will be ignored.\n",
      "WARNING:drake:/private/var/tmp/.cache_bernhardpg/drake/package_map/49284e3afc7c6ccd80b0c605f070c53ef0bb5d1d96330cf15e87c68d804e78a8-178578bad0b90f28768b2e80f2688fa778c9eaa6a5b44b1043272622f95ec888/atlas/atlas_minimal_contact.urdf:569: warning: The tag 'safety_controller' found as a child of 'joint' is currently unsupported and will be ignored.\n",
      "WARNING:drake:/private/var/tmp/.cache_bernhardpg/drake/package_map/49284e3afc7c6ccd80b0c605f070c53ef0bb5d1d96330cf15e87c68d804e78a8-178578bad0b90f28768b2e80f2688fa778c9eaa6a5b44b1043272622f95ec888/atlas/atlas_minimal_contact.urdf:578: warning: The tag 'safety_controller' found as a child of 'joint' is currently unsupported and will be ignored.\n",
      "WARNING:drake:/private/var/tmp/.cache_bernhardpg/drake/package_map/49284e3afc7c6ccd80b0c605f070c53ef0bb5d1d96330cf15e87c68d804e78a8-178578bad0b90f28768b2e80f2688fa778c9eaa6a5b44b1043272622f95ec888/atlas/atlas_minimal_contact.urdf:587: warning: The tag 'safety_controller' found as a child of 'joint' is currently unsupported and will be ignored.\n",
      "WARNING:drake:/private/var/tmp/.cache_bernhardpg/drake/package_map/49284e3afc7c6ccd80b0c605f070c53ef0bb5d1d96330cf15e87c68d804e78a8-178578bad0b90f28768b2e80f2688fa778c9eaa6a5b44b1043272622f95ec888/atlas/atlas_minimal_contact.urdf:596: warning: The tag 'safety_controller' found as a child of 'joint' is currently unsupported and will be ignored.\n",
      "WARNING:drake:/private/var/tmp/.cache_bernhardpg/drake/package_map/49284e3afc7c6ccd80b0c605f070c53ef0bb5d1d96330cf15e87c68d804e78a8-178578bad0b90f28768b2e80f2688fa778c9eaa6a5b44b1043272622f95ec888/atlas/atlas_minimal_contact.urdf:605: warning: The tag 'safety_controller' found as a child of 'joint' is currently unsupported and will be ignored.\n",
      "WARNING:drake:/private/var/tmp/.cache_bernhardpg/drake/package_map/49284e3afc7c6ccd80b0c605f070c53ef0bb5d1d96330cf15e87c68d804e78a8-178578bad0b90f28768b2e80f2688fa778c9eaa6a5b44b1043272622f95ec888/atlas/atlas_minimal_contact.urdf:614: warning: The tag 'safety_controller' found as a child of 'joint' is currently unsupported and will be ignored.\n",
      "WARNING:drake:/private/var/tmp/.cache_bernhardpg/drake/package_map/49284e3afc7c6ccd80b0c605f070c53ef0bb5d1d96330cf15e87c68d804e78a8-178578bad0b90f28768b2e80f2688fa778c9eaa6a5b44b1043272622f95ec888/atlas/atlas_minimal_contact.urdf:623: warning: The tag 'safety_controller' found as a child of 'joint' is currently unsupported and will be ignored.\n",
      "WARNING:drake:/private/var/tmp/.cache_bernhardpg/drake/package_map/49284e3afc7c6ccd80b0c605f070c53ef0bb5d1d96330cf15e87c68d804e78a8-178578bad0b90f28768b2e80f2688fa778c9eaa6a5b44b1043272622f95ec888/atlas/atlas_minimal_contact.urdf:632: warning: The tag 'safety_controller' found as a child of 'joint' is currently unsupported and will be ignored.\n",
      "WARNING:drake:/private/var/tmp/.cache_bernhardpg/drake/package_map/49284e3afc7c6ccd80b0c605f070c53ef0bb5d1d96330cf15e87c68d804e78a8-178578bad0b90f28768b2e80f2688fa778c9eaa6a5b44b1043272622f95ec888/atlas/atlas_minimal_contact.urdf:641: warning: The tag 'safety_controller' found as a child of 'joint' is currently unsupported and will be ignored.\n",
      "WARNING:drake:/private/var/tmp/.cache_bernhardpg/drake/package_map/49284e3afc7c6ccd80b0c605f070c53ef0bb5d1d96330cf15e87c68d804e78a8-178578bad0b90f28768b2e80f2688fa778c9eaa6a5b44b1043272622f95ec888/atlas/atlas_minimal_contact.urdf:650: warning: The tag 'safety_controller' found as a child of 'joint' is currently unsupported and will be ignored.\n",
      "WARNING:drake:/private/var/tmp/.cache_bernhardpg/drake/package_map/49284e3afc7c6ccd80b0c605f070c53ef0bb5d1d96330cf15e87c68d804e78a8-178578bad0b90f28768b2e80f2688fa778c9eaa6a5b44b1043272622f95ec888/atlas/atlas_minimal_contact.urdf:659: warning: The tag 'safety_controller' found as a child of 'joint' is currently unsupported and will be ignored.\n",
      "WARNING:drake:/private/var/tmp/.cache_bernhardpg/drake/package_map/49284e3afc7c6ccd80b0c605f070c53ef0bb5d1d96330cf15e87c68d804e78a8-178578bad0b90f28768b2e80f2688fa778c9eaa6a5b44b1043272622f95ec888/atlas/atlas_minimal_contact.urdf:668: warning: The tag 'safety_controller' found as a child of 'joint' is currently unsupported and will be ignored.\n",
      "WARNING:drake:/private/var/tmp/.cache_bernhardpg/drake/package_map/49284e3afc7c6ccd80b0c605f070c53ef0bb5d1d96330cf15e87c68d804e78a8-178578bad0b90f28768b2e80f2688fa778c9eaa6a5b44b1043272622f95ec888/atlas/atlas_minimal_contact.urdf:677: warning: The tag 'safety_controller' found as a child of 'joint' is currently unsupported and will be ignored.\n",
      "WARNING:drake:/private/var/tmp/.cache_bernhardpg/drake/package_map/49284e3afc7c6ccd80b0c605f070c53ef0bb5d1d96330cf15e87c68d804e78a8-178578bad0b90f28768b2e80f2688fa778c9eaa6a5b44b1043272622f95ec888/atlas/atlas_minimal_contact.urdf:686: warning: The tag 'safety_controller' found as a child of 'joint' is currently unsupported and will be ignored.\n",
      "WARNING:drake:/private/var/tmp/.cache_bernhardpg/drake/package_map/49284e3afc7c6ccd80b0c605f070c53ef0bb5d1d96330cf15e87c68d804e78a8-178578bad0b90f28768b2e80f2688fa778c9eaa6a5b44b1043272622f95ec888/atlas/atlas_minimal_contact.urdf:695: warning: The tag 'safety_controller' found as a child of 'joint' is currently unsupported and will be ignored.\n",
      "WARNING:drake:/private/var/tmp/.cache_bernhardpg/drake/package_map/49284e3afc7c6ccd80b0c605f070c53ef0bb5d1d96330cf15e87c68d804e78a8-178578bad0b90f28768b2e80f2688fa778c9eaa6a5b44b1043272622f95ec888/atlas/atlas_minimal_contact.urdf:704: warning: The tag 'safety_controller' found as a child of 'joint' is currently unsupported and will be ignored.\n",
      "WARNING:drake:/private/var/tmp/.cache_bernhardpg/drake/package_map/49284e3afc7c6ccd80b0c605f070c53ef0bb5d1d96330cf15e87c68d804e78a8-178578bad0b90f28768b2e80f2688fa778c9eaa6a5b44b1043272622f95ec888/atlas/atlas_minimal_contact.urdf:713: warning: The tag 'safety_controller' found as a child of 'joint' is currently unsupported and will be ignored.\n",
      "WARNING:drake:/private/var/tmp/.cache_bernhardpg/drake/package_map/49284e3afc7c6ccd80b0c605f070c53ef0bb5d1d96330cf15e87c68d804e78a8-178578bad0b90f28768b2e80f2688fa778c9eaa6a5b44b1043272622f95ec888/atlas/atlas_minimal_contact.urdf:722: warning: The tag 'safety_controller' found as a child of 'joint' is currently unsupported and will be ignored.\n",
      "WARNING:drake:/private/var/tmp/.cache_bernhardpg/drake/package_map/49284e3afc7c6ccd80b0c605f070c53ef0bb5d1d96330cf15e87c68d804e78a8-178578bad0b90f28768b2e80f2688fa778c9eaa6a5b44b1043272622f95ec888/atlas/atlas_minimal_contact.urdf:731: warning: The tag 'safety_controller' found as a child of 'joint' is currently unsupported and will be ignored.\n",
      "WARNING:drake:/private/var/tmp/.cache_bernhardpg/drake/package_map/49284e3afc7c6ccd80b0c605f070c53ef0bb5d1d96330cf15e87c68d804e78a8-178578bad0b90f28768b2e80f2688fa778c9eaa6a5b44b1043272622f95ec888/atlas/atlas_minimal_contact.urdf:740: warning: The tag 'safety_controller' found as a child of 'joint' is currently unsupported and will be ignored.\n",
      "WARNING:drake:/private/var/tmp/.cache_bernhardpg/drake/package_map/49284e3afc7c6ccd80b0c605f070c53ef0bb5d1d96330cf15e87c68d804e78a8-178578bad0b90f28768b2e80f2688fa778c9eaa6a5b44b1043272622f95ec888/atlas/atlas_minimal_contact.urdf:749: warning: The tag 'safety_controller' found as a child of 'joint' is currently unsupported and will be ignored.\n",
      "WARNING:drake:/private/var/tmp/.cache_bernhardpg/drake/package_map/49284e3afc7c6ccd80b0c605f070c53ef0bb5d1d96330cf15e87c68d804e78a8-178578bad0b90f28768b2e80f2688fa778c9eaa6a5b44b1043272622f95ec888/atlas/atlas_minimal_contact.urdf:758: warning: The tag 'safety_controller' found as a child of 'joint' is currently unsupported and will be ignored.\n",
      "WARNING:drake:/private/var/tmp/.cache_bernhardpg/drake/package_map/49284e3afc7c6ccd80b0c605f070c53ef0bb5d1d96330cf15e87c68d804e78a8-178578bad0b90f28768b2e80f2688fa778c9eaa6a5b44b1043272622f95ec888/atlas/atlas_minimal_contact.urdf:767: warning: The tag 'safety_controller' found as a child of 'joint' is currently unsupported and will be ignored.\n",
      "WARNING:drake:/private/var/tmp/.cache_bernhardpg/drake/package_map/49284e3afc7c6ccd80b0c605f070c53ef0bb5d1d96330cf15e87c68d804e78a8-178578bad0b90f28768b2e80f2688fa778c9eaa6a5b44b1043272622f95ec888/atlas/atlas_minimal_contact.urdf:776: warning: The tag 'safety_controller' found as a child of 'joint' is currently unsupported and will be ignored.\n",
      "WARNING:drake:/private/var/tmp/.cache_bernhardpg/drake/package_map/49284e3afc7c6ccd80b0c605f070c53ef0bb5d1d96330cf15e87c68d804e78a8-178578bad0b90f28768b2e80f2688fa778c9eaa6a5b44b1043272622f95ec888/atlas/atlas_minimal_contact.urdf:785: warning: The tag 'safety_controller' found as a child of 'joint' is currently unsupported and will be ignored.\n",
      "WARNING:drake:/private/var/tmp/.cache_bernhardpg/drake/package_map/49284e3afc7c6ccd80b0c605f070c53ef0bb5d1d96330cf15e87c68d804e78a8-178578bad0b90f28768b2e80f2688fa778c9eaa6a5b44b1043272622f95ec888/atlas/atlas_minimal_contact.urdf:794: warning: The tag 'safety_controller' found as a child of 'joint' is currently unsupported and will be ignored.\n",
      "WARNING:drake:/private/var/tmp/.cache_bernhardpg/drake/package_map/49284e3afc7c6ccd80b0c605f070c53ef0bb5d1d96330cf15e87c68d804e78a8-178578bad0b90f28768b2e80f2688fa778c9eaa6a5b44b1043272622f95ec888/atlas/atlas_minimal_contact.urdf:803: warning: The tag 'safety_controller' found as a child of 'joint' is currently unsupported and will be ignored.\n",
      "WARNING:drake:/private/var/tmp/.cache_bernhardpg/drake/package_map/49284e3afc7c6ccd80b0c605f070c53ef0bb5d1d96330cf15e87c68d804e78a8-178578bad0b90f28768b2e80f2688fa778c9eaa6a5b44b1043272622f95ec888/atlas/atlas_minimal_contact.urdf:812: warning: The tag 'safety_controller' found as a child of 'joint' is currently unsupported and will be ignored.\n",
      "WARNING:drake:/private/var/tmp/.cache_bernhardpg/drake/package_map/49284e3afc7c6ccd80b0c605f070c53ef0bb5d1d96330cf15e87c68d804e78a8-178578bad0b90f28768b2e80f2688fa778c9eaa6a5b44b1043272622f95ec888/atlas/atlas_minimal_contact.urdf:821: warning: The tag 'safety_controller' found as a child of 'joint' is currently unsupported and will be ignored.\n",
      "WARNING:drake:/private/var/tmp/.cache_bernhardpg/drake/package_map/49284e3afc7c6ccd80b0c605f070c53ef0bb5d1d96330cf15e87c68d804e78a8-178578bad0b90f28768b2e80f2688fa778c9eaa6a5b44b1043272622f95ec888/atlas/atlas_minimal_contact.urdf:1219: warning: Skipping transmission since it's attached to a fixed joint \"hokuyo_joint\".\n",
      "WARNING:drake:/private/var/tmp/.cache_bernhardpg/drake/package_map/49284e3afc7c6ccd80b0c605f070c53ef0bb5d1d96330cf15e87c68d804e78a8-178578bad0b90f28768b2e80f2688fa778c9eaa6a5b44b1043272622f95ec888/atlas/atlas_minimal_contact.urdf:560: warning: The tag 'safety_controller' found as a child of 'joint' is currently unsupported and will be ignored.\n",
      "WARNING:drake:/private/var/tmp/.cache_bernhardpg/drake/package_map/49284e3afc7c6ccd80b0c605f070c53ef0bb5d1d96330cf15e87c68d804e78a8-178578bad0b90f28768b2e80f2688fa778c9eaa6a5b44b1043272622f95ec888/atlas/atlas_minimal_contact.urdf:569: warning: The tag 'safety_controller' found as a child of 'joint' is currently unsupported and will be ignored.\n",
      "WARNING:drake:/private/var/tmp/.cache_bernhardpg/drake/package_map/49284e3afc7c6ccd80b0c605f070c53ef0bb5d1d96330cf15e87c68d804e78a8-178578bad0b90f28768b2e80f2688fa778c9eaa6a5b44b1043272622f95ec888/atlas/atlas_minimal_contact.urdf:578: warning: The tag 'safety_controller' found as a child of 'joint' is currently unsupported and will be ignored.\n",
      "WARNING:drake:/private/var/tmp/.cache_bernhardpg/drake/package_map/49284e3afc7c6ccd80b0c605f070c53ef0bb5d1d96330cf15e87c68d804e78a8-178578bad0b90f28768b2e80f2688fa778c9eaa6a5b44b1043272622f95ec888/atlas/atlas_minimal_contact.urdf:587: warning: The tag 'safety_controller' found as a child of 'joint' is currently unsupported and will be ignored.\n",
      "WARNING:drake:/private/var/tmp/.cache_bernhardpg/drake/package_map/49284e3afc7c6ccd80b0c605f070c53ef0bb5d1d96330cf15e87c68d804e78a8-178578bad0b90f28768b2e80f2688fa778c9eaa6a5b44b1043272622f95ec888/atlas/atlas_minimal_contact.urdf:596: warning: The tag 'safety_controller' found as a child of 'joint' is currently unsupported and will be ignored.\n",
      "WARNING:drake:/private/var/tmp/.cache_bernhardpg/drake/package_map/49284e3afc7c6ccd80b0c605f070c53ef0bb5d1d96330cf15e87c68d804e78a8-178578bad0b90f28768b2e80f2688fa778c9eaa6a5b44b1043272622f95ec888/atlas/atlas_minimal_contact.urdf:605: warning: The tag 'safety_controller' found as a child of 'joint' is currently unsupported and will be ignored.\n",
      "WARNING:drake:/private/var/tmp/.cache_bernhardpg/drake/package_map/49284e3afc7c6ccd80b0c605f070c53ef0bb5d1d96330cf15e87c68d804e78a8-178578bad0b90f28768b2e80f2688fa778c9eaa6a5b44b1043272622f95ec888/atlas/atlas_minimal_contact.urdf:614: warning: The tag 'safety_controller' found as a child of 'joint' is currently unsupported and will be ignored.\n",
      "WARNING:drake:/private/var/tmp/.cache_bernhardpg/drake/package_map/49284e3afc7c6ccd80b0c605f070c53ef0bb5d1d96330cf15e87c68d804e78a8-178578bad0b90f28768b2e80f2688fa778c9eaa6a5b44b1043272622f95ec888/atlas/atlas_minimal_contact.urdf:623: warning: The tag 'safety_controller' found as a child of 'joint' is currently unsupported and will be ignored.\n",
      "WARNING:drake:/private/var/tmp/.cache_bernhardpg/drake/package_map/49284e3afc7c6ccd80b0c605f070c53ef0bb5d1d96330cf15e87c68d804e78a8-178578bad0b90f28768b2e80f2688fa778c9eaa6a5b44b1043272622f95ec888/atlas/atlas_minimal_contact.urdf:632: warning: The tag 'safety_controller' found as a child of 'joint' is currently unsupported and will be ignored.\n",
      "WARNING:drake:/private/var/tmp/.cache_bernhardpg/drake/package_map/49284e3afc7c6ccd80b0c605f070c53ef0bb5d1d96330cf15e87c68d804e78a8-178578bad0b90f28768b2e80f2688fa778c9eaa6a5b44b1043272622f95ec888/atlas/atlas_minimal_contact.urdf:641: warning: The tag 'safety_controller' found as a child of 'joint' is currently unsupported and will be ignored.\n",
      "WARNING:drake:/private/var/tmp/.cache_bernhardpg/drake/package_map/49284e3afc7c6ccd80b0c605f070c53ef0bb5d1d96330cf15e87c68d804e78a8-178578bad0b90f28768b2e80f2688fa778c9eaa6a5b44b1043272622f95ec888/atlas/atlas_minimal_contact.urdf:650: warning: The tag 'safety_controller' found as a child of 'joint' is currently unsupported and will be ignored.\n",
      "WARNING:drake:/private/var/tmp/.cache_bernhardpg/drake/package_map/49284e3afc7c6ccd80b0c605f070c53ef0bb5d1d96330cf15e87c68d804e78a8-178578bad0b90f28768b2e80f2688fa778c9eaa6a5b44b1043272622f95ec888/atlas/atlas_minimal_contact.urdf:659: warning: The tag 'safety_controller' found as a child of 'joint' is currently unsupported and will be ignored.\n",
      "WARNING:drake:/private/var/tmp/.cache_bernhardpg/drake/package_map/49284e3afc7c6ccd80b0c605f070c53ef0bb5d1d96330cf15e87c68d804e78a8-178578bad0b90f28768b2e80f2688fa778c9eaa6a5b44b1043272622f95ec888/atlas/atlas_minimal_contact.urdf:668: warning: The tag 'safety_controller' found as a child of 'joint' is currently unsupported and will be ignored.\n",
      "WARNING:drake:/private/var/tmp/.cache_bernhardpg/drake/package_map/49284e3afc7c6ccd80b0c605f070c53ef0bb5d1d96330cf15e87c68d804e78a8-178578bad0b90f28768b2e80f2688fa778c9eaa6a5b44b1043272622f95ec888/atlas/atlas_minimal_contact.urdf:677: warning: The tag 'safety_controller' found as a child of 'joint' is currently unsupported and will be ignored.\n",
      "WARNING:drake:/private/var/tmp/.cache_bernhardpg/drake/package_map/49284e3afc7c6ccd80b0c605f070c53ef0bb5d1d96330cf15e87c68d804e78a8-178578bad0b90f28768b2e80f2688fa778c9eaa6a5b44b1043272622f95ec888/atlas/atlas_minimal_contact.urdf:686: warning: The tag 'safety_controller' found as a child of 'joint' is currently unsupported and will be ignored.\n",
      "WARNING:drake:/private/var/tmp/.cache_bernhardpg/drake/package_map/49284e3afc7c6ccd80b0c605f070c53ef0bb5d1d96330cf15e87c68d804e78a8-178578bad0b90f28768b2e80f2688fa778c9eaa6a5b44b1043272622f95ec888/atlas/atlas_minimal_contact.urdf:695: warning: The tag 'safety_controller' found as a child of 'joint' is currently unsupported and will be ignored.\n",
      "WARNING:drake:/private/var/tmp/.cache_bernhardpg/drake/package_map/49284e3afc7c6ccd80b0c605f070c53ef0bb5d1d96330cf15e87c68d804e78a8-178578bad0b90f28768b2e80f2688fa778c9eaa6a5b44b1043272622f95ec888/atlas/atlas_minimal_contact.urdf:704: warning: The tag 'safety_controller' found as a child of 'joint' is currently unsupported and will be ignored.\n",
      "WARNING:drake:/private/var/tmp/.cache_bernhardpg/drake/package_map/49284e3afc7c6ccd80b0c605f070c53ef0bb5d1d96330cf15e87c68d804e78a8-178578bad0b90f28768b2e80f2688fa778c9eaa6a5b44b1043272622f95ec888/atlas/atlas_minimal_contact.urdf:713: warning: The tag 'safety_controller' found as a child of 'joint' is currently unsupported and will be ignored.\n",
      "WARNING:drake:/private/var/tmp/.cache_bernhardpg/drake/package_map/49284e3afc7c6ccd80b0c605f070c53ef0bb5d1d96330cf15e87c68d804e78a8-178578bad0b90f28768b2e80f2688fa778c9eaa6a5b44b1043272622f95ec888/atlas/atlas_minimal_contact.urdf:722: warning: The tag 'safety_controller' found as a child of 'joint' is currently unsupported and will be ignored.\n",
      "WARNING:drake:/private/var/tmp/.cache_bernhardpg/drake/package_map/49284e3afc7c6ccd80b0c605f070c53ef0bb5d1d96330cf15e87c68d804e78a8-178578bad0b90f28768b2e80f2688fa778c9eaa6a5b44b1043272622f95ec888/atlas/atlas_minimal_contact.urdf:731: warning: The tag 'safety_controller' found as a child of 'joint' is currently unsupported and will be ignored.\n",
      "WARNING:drake:/private/var/tmp/.cache_bernhardpg/drake/package_map/49284e3afc7c6ccd80b0c605f070c53ef0bb5d1d96330cf15e87c68d804e78a8-178578bad0b90f28768b2e80f2688fa778c9eaa6a5b44b1043272622f95ec888/atlas/atlas_minimal_contact.urdf:740: warning: The tag 'safety_controller' found as a child of 'joint' is currently unsupported and will be ignored.\n",
      "WARNING:drake:/private/var/tmp/.cache_bernhardpg/drake/package_map/49284e3afc7c6ccd80b0c605f070c53ef0bb5d1d96330cf15e87c68d804e78a8-178578bad0b90f28768b2e80f2688fa778c9eaa6a5b44b1043272622f95ec888/atlas/atlas_minimal_contact.urdf:749: warning: The tag 'safety_controller' found as a child of 'joint' is currently unsupported and will be ignored.\n",
      "WARNING:drake:/private/var/tmp/.cache_bernhardpg/drake/package_map/49284e3afc7c6ccd80b0c605f070c53ef0bb5d1d96330cf15e87c68d804e78a8-178578bad0b90f28768b2e80f2688fa778c9eaa6a5b44b1043272622f95ec888/atlas/atlas_minimal_contact.urdf:758: warning: The tag 'safety_controller' found as a child of 'joint' is currently unsupported and will be ignored.\n",
      "WARNING:drake:/private/var/tmp/.cache_bernhardpg/drake/package_map/49284e3afc7c6ccd80b0c605f070c53ef0bb5d1d96330cf15e87c68d804e78a8-178578bad0b90f28768b2e80f2688fa778c9eaa6a5b44b1043272622f95ec888/atlas/atlas_minimal_contact.urdf:767: warning: The tag 'safety_controller' found as a child of 'joint' is currently unsupported and will be ignored.\n",
      "WARNING:drake:/private/var/tmp/.cache_bernhardpg/drake/package_map/49284e3afc7c6ccd80b0c605f070c53ef0bb5d1d96330cf15e87c68d804e78a8-178578bad0b90f28768b2e80f2688fa778c9eaa6a5b44b1043272622f95ec888/atlas/atlas_minimal_contact.urdf:776: warning: The tag 'safety_controller' found as a child of 'joint' is currently unsupported and will be ignored.\n",
      "WARNING:drake:/private/var/tmp/.cache_bernhardpg/drake/package_map/49284e3afc7c6ccd80b0c605f070c53ef0bb5d1d96330cf15e87c68d804e78a8-178578bad0b90f28768b2e80f2688fa778c9eaa6a5b44b1043272622f95ec888/atlas/atlas_minimal_contact.urdf:785: warning: The tag 'safety_controller' found as a child of 'joint' is currently unsupported and will be ignored.\n",
      "WARNING:drake:/private/var/tmp/.cache_bernhardpg/drake/package_map/49284e3afc7c6ccd80b0c605f070c53ef0bb5d1d96330cf15e87c68d804e78a8-178578bad0b90f28768b2e80f2688fa778c9eaa6a5b44b1043272622f95ec888/atlas/atlas_minimal_contact.urdf:794: warning: The tag 'safety_controller' found as a child of 'joint' is currently unsupported and will be ignored.\n",
      "WARNING:drake:/private/var/tmp/.cache_bernhardpg/drake/package_map/49284e3afc7c6ccd80b0c605f070c53ef0bb5d1d96330cf15e87c68d804e78a8-178578bad0b90f28768b2e80f2688fa778c9eaa6a5b44b1043272622f95ec888/atlas/atlas_minimal_contact.urdf:803: warning: The tag 'safety_controller' found as a child of 'joint' is currently unsupported and will be ignored.\n",
      "WARNING:drake:/private/var/tmp/.cache_bernhardpg/drake/package_map/49284e3afc7c6ccd80b0c605f070c53ef0bb5d1d96330cf15e87c68d804e78a8-178578bad0b90f28768b2e80f2688fa778c9eaa6a5b44b1043272622f95ec888/atlas/atlas_minimal_contact.urdf:812: warning: The tag 'safety_controller' found as a child of 'joint' is currently unsupported and will be ignored.\n",
      "WARNING:drake:/private/var/tmp/.cache_bernhardpg/drake/package_map/49284e3afc7c6ccd80b0c605f070c53ef0bb5d1d96330cf15e87c68d804e78a8-178578bad0b90f28768b2e80f2688fa778c9eaa6a5b44b1043272622f95ec888/atlas/atlas_minimal_contact.urdf:821: warning: The tag 'safety_controller' found as a child of 'joint' is currently unsupported and will be ignored.\n",
      "WARNING:drake:/private/var/tmp/.cache_bernhardpg/drake/package_map/49284e3afc7c6ccd80b0c605f070c53ef0bb5d1d96330cf15e87c68d804e78a8-178578bad0b90f28768b2e80f2688fa778c9eaa6a5b44b1043272622f95ec888/atlas/atlas_minimal_contact.urdf:1219: warning: Skipping transmission since it's attached to a fixed joint \"hokuyo_joint\".\n"
     ]
    }
   ],
   "source": [
    "from humanoid_footstep_ik.visualizer import create_atlas_visualizations, create_footstep_visualizations\n",
    "\n",
    "\n",
    "stone_height = 0.8\n",
    "for stone in traj.stones:\n",
    "    stone.add_to_plant(plant, stone_height)\n",
    "\n",
    "viz_atlases = create_atlas_visualizations(\n",
    "    plant, indices_to_visualize\n",
    ")\n",
    "\n",
    "viz_feet = create_footstep_visualizations(plant, traj)"
   ]
  },
  {
   "cell_type": "markdown",
   "metadata": {},
   "source": [
    "#### If desired, print some info about the Atlas model"
   ]
  },
  {
   "cell_type": "code",
   "execution_count": 7,
   "metadata": {},
   "outputs": [],
   "source": [
    "debug = False\n",
    "if debug:\n",
    "    viz_atlases[0].print_details()"
   ]
  },
  {
   "cell_type": "markdown",
   "metadata": {},
   "source": [
    "Finalize plan, turn off collision checking, and create context"
   ]
  },
  {
   "cell_type": "code",
   "execution_count": 8,
   "metadata": {},
   "outputs": [],
   "source": [
    "plant.Finalize()\n",
    "\n",
    "# turn off collision checking (there will be collisions between atlases and feet etc.)\n",
    "turn_off_collision_checking = True\n",
    "if turn_off_collision_checking:\n",
    "    source_id = plant.get_source_id()\n",
    "    for geometry_id in scene_graph.model_inspector().GetAllGeometryIds():\n",
    "        scene_graph.RemoveRole(source_id, geometry_id, Role.kProximity)\n",
    "\n",
    "\n",
    "context = diagram.CreateDefaultContext()\n",
    "plant_context = plant.GetMyMutableContextFromRoot(context)\n",
    "\n",
    "simulator = Simulator(diagram, context)\n",
    "simulator.set_target_realtime_rate(1.0)\n",
    "time = 0.0"
   ]
  },
  {
   "cell_type": "markdown",
   "metadata": {},
   "source": [
    "#### Update positions\n",
    "This code block can be rerun."
   ]
  },
  {
   "cell_type": "code",
   "execution_count": 9,
   "metadata": {},
   "outputs": [
    {
     "name": "stderr",
     "output_type": "stream",
     "text": [
      "WARNING:drake:/private/var/tmp/.cache_bernhardpg/drake/package_map/49284e3afc7c6ccd80b0c605f070c53ef0bb5d1d96330cf15e87c68d804e78a8-178578bad0b90f28768b2e80f2688fa778c9eaa6a5b44b1043272622f95ec888/atlas/atlas_minimal_contact.urdf:560: warning: The tag 'safety_controller' found as a child of 'joint' is currently unsupported and will be ignored.\n",
      "WARNING:drake:/private/var/tmp/.cache_bernhardpg/drake/package_map/49284e3afc7c6ccd80b0c605f070c53ef0bb5d1d96330cf15e87c68d804e78a8-178578bad0b90f28768b2e80f2688fa778c9eaa6a5b44b1043272622f95ec888/atlas/atlas_minimal_contact.urdf:569: warning: The tag 'safety_controller' found as a child of 'joint' is currently unsupported and will be ignored.\n",
      "WARNING:drake:/private/var/tmp/.cache_bernhardpg/drake/package_map/49284e3afc7c6ccd80b0c605f070c53ef0bb5d1d96330cf15e87c68d804e78a8-178578bad0b90f28768b2e80f2688fa778c9eaa6a5b44b1043272622f95ec888/atlas/atlas_minimal_contact.urdf:578: warning: The tag 'safety_controller' found as a child of 'joint' is currently unsupported and will be ignored.\n",
      "WARNING:drake:/private/var/tmp/.cache_bernhardpg/drake/package_map/49284e3afc7c6ccd80b0c605f070c53ef0bb5d1d96330cf15e87c68d804e78a8-178578bad0b90f28768b2e80f2688fa778c9eaa6a5b44b1043272622f95ec888/atlas/atlas_minimal_contact.urdf:587: warning: The tag 'safety_controller' found as a child of 'joint' is currently unsupported and will be ignored.\n",
      "WARNING:drake:/private/var/tmp/.cache_bernhardpg/drake/package_map/49284e3afc7c6ccd80b0c605f070c53ef0bb5d1d96330cf15e87c68d804e78a8-178578bad0b90f28768b2e80f2688fa778c9eaa6a5b44b1043272622f95ec888/atlas/atlas_minimal_contact.urdf:596: warning: The tag 'safety_controller' found as a child of 'joint' is currently unsupported and will be ignored.\n",
      "WARNING:drake:/private/var/tmp/.cache_bernhardpg/drake/package_map/49284e3afc7c6ccd80b0c605f070c53ef0bb5d1d96330cf15e87c68d804e78a8-178578bad0b90f28768b2e80f2688fa778c9eaa6a5b44b1043272622f95ec888/atlas/atlas_minimal_contact.urdf:605: warning: The tag 'safety_controller' found as a child of 'joint' is currently unsupported and will be ignored.\n",
      "WARNING:drake:/private/var/tmp/.cache_bernhardpg/drake/package_map/49284e3afc7c6ccd80b0c605f070c53ef0bb5d1d96330cf15e87c68d804e78a8-178578bad0b90f28768b2e80f2688fa778c9eaa6a5b44b1043272622f95ec888/atlas/atlas_minimal_contact.urdf:614: warning: The tag 'safety_controller' found as a child of 'joint' is currently unsupported and will be ignored.\n",
      "WARNING:drake:/private/var/tmp/.cache_bernhardpg/drake/package_map/49284e3afc7c6ccd80b0c605f070c53ef0bb5d1d96330cf15e87c68d804e78a8-178578bad0b90f28768b2e80f2688fa778c9eaa6a5b44b1043272622f95ec888/atlas/atlas_minimal_contact.urdf:623: warning: The tag 'safety_controller' found as a child of 'joint' is currently unsupported and will be ignored.\n",
      "WARNING:drake:/private/var/tmp/.cache_bernhardpg/drake/package_map/49284e3afc7c6ccd80b0c605f070c53ef0bb5d1d96330cf15e87c68d804e78a8-178578bad0b90f28768b2e80f2688fa778c9eaa6a5b44b1043272622f95ec888/atlas/atlas_minimal_contact.urdf:632: warning: The tag 'safety_controller' found as a child of 'joint' is currently unsupported and will be ignored.\n",
      "WARNING:drake:/private/var/tmp/.cache_bernhardpg/drake/package_map/49284e3afc7c6ccd80b0c605f070c53ef0bb5d1d96330cf15e87c68d804e78a8-178578bad0b90f28768b2e80f2688fa778c9eaa6a5b44b1043272622f95ec888/atlas/atlas_minimal_contact.urdf:641: warning: The tag 'safety_controller' found as a child of 'joint' is currently unsupported and will be ignored.\n",
      "WARNING:drake:/private/var/tmp/.cache_bernhardpg/drake/package_map/49284e3afc7c6ccd80b0c605f070c53ef0bb5d1d96330cf15e87c68d804e78a8-178578bad0b90f28768b2e80f2688fa778c9eaa6a5b44b1043272622f95ec888/atlas/atlas_minimal_contact.urdf:650: warning: The tag 'safety_controller' found as a child of 'joint' is currently unsupported and will be ignored.\n",
      "WARNING:drake:/private/var/tmp/.cache_bernhardpg/drake/package_map/49284e3afc7c6ccd80b0c605f070c53ef0bb5d1d96330cf15e87c68d804e78a8-178578bad0b90f28768b2e80f2688fa778c9eaa6a5b44b1043272622f95ec888/atlas/atlas_minimal_contact.urdf:659: warning: The tag 'safety_controller' found as a child of 'joint' is currently unsupported and will be ignored.\n",
      "WARNING:drake:/private/var/tmp/.cache_bernhardpg/drake/package_map/49284e3afc7c6ccd80b0c605f070c53ef0bb5d1d96330cf15e87c68d804e78a8-178578bad0b90f28768b2e80f2688fa778c9eaa6a5b44b1043272622f95ec888/atlas/atlas_minimal_contact.urdf:668: warning: The tag 'safety_controller' found as a child of 'joint' is currently unsupported and will be ignored.\n",
      "WARNING:drake:/private/var/tmp/.cache_bernhardpg/drake/package_map/49284e3afc7c6ccd80b0c605f070c53ef0bb5d1d96330cf15e87c68d804e78a8-178578bad0b90f28768b2e80f2688fa778c9eaa6a5b44b1043272622f95ec888/atlas/atlas_minimal_contact.urdf:677: warning: The tag 'safety_controller' found as a child of 'joint' is currently unsupported and will be ignored.\n",
      "WARNING:drake:/private/var/tmp/.cache_bernhardpg/drake/package_map/49284e3afc7c6ccd80b0c605f070c53ef0bb5d1d96330cf15e87c68d804e78a8-178578bad0b90f28768b2e80f2688fa778c9eaa6a5b44b1043272622f95ec888/atlas/atlas_minimal_contact.urdf:686: warning: The tag 'safety_controller' found as a child of 'joint' is currently unsupported and will be ignored.\n",
      "WARNING:drake:/private/var/tmp/.cache_bernhardpg/drake/package_map/49284e3afc7c6ccd80b0c605f070c53ef0bb5d1d96330cf15e87c68d804e78a8-178578bad0b90f28768b2e80f2688fa778c9eaa6a5b44b1043272622f95ec888/atlas/atlas_minimal_contact.urdf:695: warning: The tag 'safety_controller' found as a child of 'joint' is currently unsupported and will be ignored.\n",
      "WARNING:drake:/private/var/tmp/.cache_bernhardpg/drake/package_map/49284e3afc7c6ccd80b0c605f070c53ef0bb5d1d96330cf15e87c68d804e78a8-178578bad0b90f28768b2e80f2688fa778c9eaa6a5b44b1043272622f95ec888/atlas/atlas_minimal_contact.urdf:704: warning: The tag 'safety_controller' found as a child of 'joint' is currently unsupported and will be ignored.\n",
      "WARNING:drake:/private/var/tmp/.cache_bernhardpg/drake/package_map/49284e3afc7c6ccd80b0c605f070c53ef0bb5d1d96330cf15e87c68d804e78a8-178578bad0b90f28768b2e80f2688fa778c9eaa6a5b44b1043272622f95ec888/atlas/atlas_minimal_contact.urdf:713: warning: The tag 'safety_controller' found as a child of 'joint' is currently unsupported and will be ignored.\n",
      "WARNING:drake:/private/var/tmp/.cache_bernhardpg/drake/package_map/49284e3afc7c6ccd80b0c605f070c53ef0bb5d1d96330cf15e87c68d804e78a8-178578bad0b90f28768b2e80f2688fa778c9eaa6a5b44b1043272622f95ec888/atlas/atlas_minimal_contact.urdf:722: warning: The tag 'safety_controller' found as a child of 'joint' is currently unsupported and will be ignored.\n",
      "WARNING:drake:/private/var/tmp/.cache_bernhardpg/drake/package_map/49284e3afc7c6ccd80b0c605f070c53ef0bb5d1d96330cf15e87c68d804e78a8-178578bad0b90f28768b2e80f2688fa778c9eaa6a5b44b1043272622f95ec888/atlas/atlas_minimal_contact.urdf:731: warning: The tag 'safety_controller' found as a child of 'joint' is currently unsupported and will be ignored.\n",
      "WARNING:drake:/private/var/tmp/.cache_bernhardpg/drake/package_map/49284e3afc7c6ccd80b0c605f070c53ef0bb5d1d96330cf15e87c68d804e78a8-178578bad0b90f28768b2e80f2688fa778c9eaa6a5b44b1043272622f95ec888/atlas/atlas_minimal_contact.urdf:740: warning: The tag 'safety_controller' found as a child of 'joint' is currently unsupported and will be ignored.\n",
      "WARNING:drake:/private/var/tmp/.cache_bernhardpg/drake/package_map/49284e3afc7c6ccd80b0c605f070c53ef0bb5d1d96330cf15e87c68d804e78a8-178578bad0b90f28768b2e80f2688fa778c9eaa6a5b44b1043272622f95ec888/atlas/atlas_minimal_contact.urdf:749: warning: The tag 'safety_controller' found as a child of 'joint' is currently unsupported and will be ignored.\n",
      "WARNING:drake:/private/var/tmp/.cache_bernhardpg/drake/package_map/49284e3afc7c6ccd80b0c605f070c53ef0bb5d1d96330cf15e87c68d804e78a8-178578bad0b90f28768b2e80f2688fa778c9eaa6a5b44b1043272622f95ec888/atlas/atlas_minimal_contact.urdf:758: warning: The tag 'safety_controller' found as a child of 'joint' is currently unsupported and will be ignored.\n",
      "WARNING:drake:/private/var/tmp/.cache_bernhardpg/drake/package_map/49284e3afc7c6ccd80b0c605f070c53ef0bb5d1d96330cf15e87c68d804e78a8-178578bad0b90f28768b2e80f2688fa778c9eaa6a5b44b1043272622f95ec888/atlas/atlas_minimal_contact.urdf:767: warning: The tag 'safety_controller' found as a child of 'joint' is currently unsupported and will be ignored.\n",
      "WARNING:drake:/private/var/tmp/.cache_bernhardpg/drake/package_map/49284e3afc7c6ccd80b0c605f070c53ef0bb5d1d96330cf15e87c68d804e78a8-178578bad0b90f28768b2e80f2688fa778c9eaa6a5b44b1043272622f95ec888/atlas/atlas_minimal_contact.urdf:776: warning: The tag 'safety_controller' found as a child of 'joint' is currently unsupported and will be ignored.\n",
      "WARNING:drake:/private/var/tmp/.cache_bernhardpg/drake/package_map/49284e3afc7c6ccd80b0c605f070c53ef0bb5d1d96330cf15e87c68d804e78a8-178578bad0b90f28768b2e80f2688fa778c9eaa6a5b44b1043272622f95ec888/atlas/atlas_minimal_contact.urdf:785: warning: The tag 'safety_controller' found as a child of 'joint' is currently unsupported and will be ignored.\n",
      "WARNING:drake:/private/var/tmp/.cache_bernhardpg/drake/package_map/49284e3afc7c6ccd80b0c605f070c53ef0bb5d1d96330cf15e87c68d804e78a8-178578bad0b90f28768b2e80f2688fa778c9eaa6a5b44b1043272622f95ec888/atlas/atlas_minimal_contact.urdf:794: warning: The tag 'safety_controller' found as a child of 'joint' is currently unsupported and will be ignored.\n",
      "WARNING:drake:/private/var/tmp/.cache_bernhardpg/drake/package_map/49284e3afc7c6ccd80b0c605f070c53ef0bb5d1d96330cf15e87c68d804e78a8-178578bad0b90f28768b2e80f2688fa778c9eaa6a5b44b1043272622f95ec888/atlas/atlas_minimal_contact.urdf:803: warning: The tag 'safety_controller' found as a child of 'joint' is currently unsupported and will be ignored.\n",
      "WARNING:drake:/private/var/tmp/.cache_bernhardpg/drake/package_map/49284e3afc7c6ccd80b0c605f070c53ef0bb5d1d96330cf15e87c68d804e78a8-178578bad0b90f28768b2e80f2688fa778c9eaa6a5b44b1043272622f95ec888/atlas/atlas_minimal_contact.urdf:812: warning: The tag 'safety_controller' found as a child of 'joint' is currently unsupported and will be ignored.\n",
      "WARNING:drake:/private/var/tmp/.cache_bernhardpg/drake/package_map/49284e3afc7c6ccd80b0c605f070c53ef0bb5d1d96330cf15e87c68d804e78a8-178578bad0b90f28768b2e80f2688fa778c9eaa6a5b44b1043272622f95ec888/atlas/atlas_minimal_contact.urdf:821: warning: The tag 'safety_controller' found as a child of 'joint' is currently unsupported and will be ignored.\n",
      "WARNING:drake:/private/var/tmp/.cache_bernhardpg/drake/package_map/49284e3afc7c6ccd80b0c605f070c53ef0bb5d1d96330cf15e87c68d804e78a8-178578bad0b90f28768b2e80f2688fa778c9eaa6a5b44b1043272622f95ec888/atlas/atlas_minimal_contact.urdf:1219: warning: Skipping transmission since it's attached to a fixed joint \"hokuyo_joint\".\n",
      "WARNING:drake:/private/var/tmp/.cache_bernhardpg/drake/package_map/49284e3afc7c6ccd80b0c605f070c53ef0bb5d1d96330cf15e87c68d804e78a8-178578bad0b90f28768b2e80f2688fa778c9eaa6a5b44b1043272622f95ec888/atlas/atlas_minimal_contact.urdf:560: warning: The tag 'safety_controller' found as a child of 'joint' is currently unsupported and will be ignored.\n",
      "WARNING:drake:/private/var/tmp/.cache_bernhardpg/drake/package_map/49284e3afc7c6ccd80b0c605f070c53ef0bb5d1d96330cf15e87c68d804e78a8-178578bad0b90f28768b2e80f2688fa778c9eaa6a5b44b1043272622f95ec888/atlas/atlas_minimal_contact.urdf:569: warning: The tag 'safety_controller' found as a child of 'joint' is currently unsupported and will be ignored.\n",
      "WARNING:drake:/private/var/tmp/.cache_bernhardpg/drake/package_map/49284e3afc7c6ccd80b0c605f070c53ef0bb5d1d96330cf15e87c68d804e78a8-178578bad0b90f28768b2e80f2688fa778c9eaa6a5b44b1043272622f95ec888/atlas/atlas_minimal_contact.urdf:578: warning: The tag 'safety_controller' found as a child of 'joint' is currently unsupported and will be ignored.\n",
      "WARNING:drake:/private/var/tmp/.cache_bernhardpg/drake/package_map/49284e3afc7c6ccd80b0c605f070c53ef0bb5d1d96330cf15e87c68d804e78a8-178578bad0b90f28768b2e80f2688fa778c9eaa6a5b44b1043272622f95ec888/atlas/atlas_minimal_contact.urdf:587: warning: The tag 'safety_controller' found as a child of 'joint' is currently unsupported and will be ignored.\n",
      "WARNING:drake:/private/var/tmp/.cache_bernhardpg/drake/package_map/49284e3afc7c6ccd80b0c605f070c53ef0bb5d1d96330cf15e87c68d804e78a8-178578bad0b90f28768b2e80f2688fa778c9eaa6a5b44b1043272622f95ec888/atlas/atlas_minimal_contact.urdf:596: warning: The tag 'safety_controller' found as a child of 'joint' is currently unsupported and will be ignored.\n",
      "WARNING:drake:/private/var/tmp/.cache_bernhardpg/drake/package_map/49284e3afc7c6ccd80b0c605f070c53ef0bb5d1d96330cf15e87c68d804e78a8-178578bad0b90f28768b2e80f2688fa778c9eaa6a5b44b1043272622f95ec888/atlas/atlas_minimal_contact.urdf:605: warning: The tag 'safety_controller' found as a child of 'joint' is currently unsupported and will be ignored.\n",
      "WARNING:drake:/private/var/tmp/.cache_bernhardpg/drake/package_map/49284e3afc7c6ccd80b0c605f070c53ef0bb5d1d96330cf15e87c68d804e78a8-178578bad0b90f28768b2e80f2688fa778c9eaa6a5b44b1043272622f95ec888/atlas/atlas_minimal_contact.urdf:614: warning: The tag 'safety_controller' found as a child of 'joint' is currently unsupported and will be ignored.\n",
      "WARNING:drake:/private/var/tmp/.cache_bernhardpg/drake/package_map/49284e3afc7c6ccd80b0c605f070c53ef0bb5d1d96330cf15e87c68d804e78a8-178578bad0b90f28768b2e80f2688fa778c9eaa6a5b44b1043272622f95ec888/atlas/atlas_minimal_contact.urdf:623: warning: The tag 'safety_controller' found as a child of 'joint' is currently unsupported and will be ignored.\n",
      "WARNING:drake:/private/var/tmp/.cache_bernhardpg/drake/package_map/49284e3afc7c6ccd80b0c605f070c53ef0bb5d1d96330cf15e87c68d804e78a8-178578bad0b90f28768b2e80f2688fa778c9eaa6a5b44b1043272622f95ec888/atlas/atlas_minimal_contact.urdf:632: warning: The tag 'safety_controller' found as a child of 'joint' is currently unsupported and will be ignored.\n",
      "WARNING:drake:/private/var/tmp/.cache_bernhardpg/drake/package_map/49284e3afc7c6ccd80b0c605f070c53ef0bb5d1d96330cf15e87c68d804e78a8-178578bad0b90f28768b2e80f2688fa778c9eaa6a5b44b1043272622f95ec888/atlas/atlas_minimal_contact.urdf:641: warning: The tag 'safety_controller' found as a child of 'joint' is currently unsupported and will be ignored.\n",
      "WARNING:drake:/private/var/tmp/.cache_bernhardpg/drake/package_map/49284e3afc7c6ccd80b0c605f070c53ef0bb5d1d96330cf15e87c68d804e78a8-178578bad0b90f28768b2e80f2688fa778c9eaa6a5b44b1043272622f95ec888/atlas/atlas_minimal_contact.urdf:650: warning: The tag 'safety_controller' found as a child of 'joint' is currently unsupported and will be ignored.\n",
      "WARNING:drake:/private/var/tmp/.cache_bernhardpg/drake/package_map/49284e3afc7c6ccd80b0c605f070c53ef0bb5d1d96330cf15e87c68d804e78a8-178578bad0b90f28768b2e80f2688fa778c9eaa6a5b44b1043272622f95ec888/atlas/atlas_minimal_contact.urdf:659: warning: The tag 'safety_controller' found as a child of 'joint' is currently unsupported and will be ignored.\n",
      "WARNING:drake:/private/var/tmp/.cache_bernhardpg/drake/package_map/49284e3afc7c6ccd80b0c605f070c53ef0bb5d1d96330cf15e87c68d804e78a8-178578bad0b90f28768b2e80f2688fa778c9eaa6a5b44b1043272622f95ec888/atlas/atlas_minimal_contact.urdf:668: warning: The tag 'safety_controller' found as a child of 'joint' is currently unsupported and will be ignored.\n",
      "WARNING:drake:/private/var/tmp/.cache_bernhardpg/drake/package_map/49284e3afc7c6ccd80b0c605f070c53ef0bb5d1d96330cf15e87c68d804e78a8-178578bad0b90f28768b2e80f2688fa778c9eaa6a5b44b1043272622f95ec888/atlas/atlas_minimal_contact.urdf:677: warning: The tag 'safety_controller' found as a child of 'joint' is currently unsupported and will be ignored.\n",
      "WARNING:drake:/private/var/tmp/.cache_bernhardpg/drake/package_map/49284e3afc7c6ccd80b0c605f070c53ef0bb5d1d96330cf15e87c68d804e78a8-178578bad0b90f28768b2e80f2688fa778c9eaa6a5b44b1043272622f95ec888/atlas/atlas_minimal_contact.urdf:686: warning: The tag 'safety_controller' found as a child of 'joint' is currently unsupported and will be ignored.\n",
      "WARNING:drake:/private/var/tmp/.cache_bernhardpg/drake/package_map/49284e3afc7c6ccd80b0c605f070c53ef0bb5d1d96330cf15e87c68d804e78a8-178578bad0b90f28768b2e80f2688fa778c9eaa6a5b44b1043272622f95ec888/atlas/atlas_minimal_contact.urdf:695: warning: The tag 'safety_controller' found as a child of 'joint' is currently unsupported and will be ignored.\n",
      "WARNING:drake:/private/var/tmp/.cache_bernhardpg/drake/package_map/49284e3afc7c6ccd80b0c605f070c53ef0bb5d1d96330cf15e87c68d804e78a8-178578bad0b90f28768b2e80f2688fa778c9eaa6a5b44b1043272622f95ec888/atlas/atlas_minimal_contact.urdf:704: warning: The tag 'safety_controller' found as a child of 'joint' is currently unsupported and will be ignored.\n",
      "WARNING:drake:/private/var/tmp/.cache_bernhardpg/drake/package_map/49284e3afc7c6ccd80b0c605f070c53ef0bb5d1d96330cf15e87c68d804e78a8-178578bad0b90f28768b2e80f2688fa778c9eaa6a5b44b1043272622f95ec888/atlas/atlas_minimal_contact.urdf:713: warning: The tag 'safety_controller' found as a child of 'joint' is currently unsupported and will be ignored.\n",
      "WARNING:drake:/private/var/tmp/.cache_bernhardpg/drake/package_map/49284e3afc7c6ccd80b0c605f070c53ef0bb5d1d96330cf15e87c68d804e78a8-178578bad0b90f28768b2e80f2688fa778c9eaa6a5b44b1043272622f95ec888/atlas/atlas_minimal_contact.urdf:722: warning: The tag 'safety_controller' found as a child of 'joint' is currently unsupported and will be ignored.\n",
      "WARNING:drake:/private/var/tmp/.cache_bernhardpg/drake/package_map/49284e3afc7c6ccd80b0c605f070c53ef0bb5d1d96330cf15e87c68d804e78a8-178578bad0b90f28768b2e80f2688fa778c9eaa6a5b44b1043272622f95ec888/atlas/atlas_minimal_contact.urdf:731: warning: The tag 'safety_controller' found as a child of 'joint' is currently unsupported and will be ignored.\n",
      "WARNING:drake:/private/var/tmp/.cache_bernhardpg/drake/package_map/49284e3afc7c6ccd80b0c605f070c53ef0bb5d1d96330cf15e87c68d804e78a8-178578bad0b90f28768b2e80f2688fa778c9eaa6a5b44b1043272622f95ec888/atlas/atlas_minimal_contact.urdf:740: warning: The tag 'safety_controller' found as a child of 'joint' is currently unsupported and will be ignored.\n",
      "WARNING:drake:/private/var/tmp/.cache_bernhardpg/drake/package_map/49284e3afc7c6ccd80b0c605f070c53ef0bb5d1d96330cf15e87c68d804e78a8-178578bad0b90f28768b2e80f2688fa778c9eaa6a5b44b1043272622f95ec888/atlas/atlas_minimal_contact.urdf:749: warning: The tag 'safety_controller' found as a child of 'joint' is currently unsupported and will be ignored.\n",
      "WARNING:drake:/private/var/tmp/.cache_bernhardpg/drake/package_map/49284e3afc7c6ccd80b0c605f070c53ef0bb5d1d96330cf15e87c68d804e78a8-178578bad0b90f28768b2e80f2688fa778c9eaa6a5b44b1043272622f95ec888/atlas/atlas_minimal_contact.urdf:758: warning: The tag 'safety_controller' found as a child of 'joint' is currently unsupported and will be ignored.\n",
      "WARNING:drake:/private/var/tmp/.cache_bernhardpg/drake/package_map/49284e3afc7c6ccd80b0c605f070c53ef0bb5d1d96330cf15e87c68d804e78a8-178578bad0b90f28768b2e80f2688fa778c9eaa6a5b44b1043272622f95ec888/atlas/atlas_minimal_contact.urdf:767: warning: The tag 'safety_controller' found as a child of 'joint' is currently unsupported and will be ignored.\n",
      "WARNING:drake:/private/var/tmp/.cache_bernhardpg/drake/package_map/49284e3afc7c6ccd80b0c605f070c53ef0bb5d1d96330cf15e87c68d804e78a8-178578bad0b90f28768b2e80f2688fa778c9eaa6a5b44b1043272622f95ec888/atlas/atlas_minimal_contact.urdf:776: warning: The tag 'safety_controller' found as a child of 'joint' is currently unsupported and will be ignored.\n",
      "WARNING:drake:/private/var/tmp/.cache_bernhardpg/drake/package_map/49284e3afc7c6ccd80b0c605f070c53ef0bb5d1d96330cf15e87c68d804e78a8-178578bad0b90f28768b2e80f2688fa778c9eaa6a5b44b1043272622f95ec888/atlas/atlas_minimal_contact.urdf:785: warning: The tag 'safety_controller' found as a child of 'joint' is currently unsupported and will be ignored.\n",
      "WARNING:drake:/private/var/tmp/.cache_bernhardpg/drake/package_map/49284e3afc7c6ccd80b0c605f070c53ef0bb5d1d96330cf15e87c68d804e78a8-178578bad0b90f28768b2e80f2688fa778c9eaa6a5b44b1043272622f95ec888/atlas/atlas_minimal_contact.urdf:794: warning: The tag 'safety_controller' found as a child of 'joint' is currently unsupported and will be ignored.\n",
      "WARNING:drake:/private/var/tmp/.cache_bernhardpg/drake/package_map/49284e3afc7c6ccd80b0c605f070c53ef0bb5d1d96330cf15e87c68d804e78a8-178578bad0b90f28768b2e80f2688fa778c9eaa6a5b44b1043272622f95ec888/atlas/atlas_minimal_contact.urdf:803: warning: The tag 'safety_controller' found as a child of 'joint' is currently unsupported and will be ignored.\n",
      "WARNING:drake:/private/var/tmp/.cache_bernhardpg/drake/package_map/49284e3afc7c6ccd80b0c605f070c53ef0bb5d1d96330cf15e87c68d804e78a8-178578bad0b90f28768b2e80f2688fa778c9eaa6a5b44b1043272622f95ec888/atlas/atlas_minimal_contact.urdf:812: warning: The tag 'safety_controller' found as a child of 'joint' is currently unsupported and will be ignored.\n",
      "WARNING:drake:/private/var/tmp/.cache_bernhardpg/drake/package_map/49284e3afc7c6ccd80b0c605f070c53ef0bb5d1d96330cf15e87c68d804e78a8-178578bad0b90f28768b2e80f2688fa778c9eaa6a5b44b1043272622f95ec888/atlas/atlas_minimal_contact.urdf:821: warning: The tag 'safety_controller' found as a child of 'joint' is currently unsupported and will be ignored.\n",
      "WARNING:drake:/private/var/tmp/.cache_bernhardpg/drake/package_map/49284e3afc7c6ccd80b0c605f070c53ef0bb5d1d96330cf15e87c68d804e78a8-178578bad0b90f28768b2e80f2688fa778c9eaa6a5b44b1043272622f95ec888/atlas/atlas_minimal_contact.urdf:1219: warning: Skipping transmission since it's attached to a fixed joint \"hokuyo_joint\".\n",
      "WARNING:drake:/private/var/tmp/.cache_bernhardpg/drake/package_map/49284e3afc7c6ccd80b0c605f070c53ef0bb5d1d96330cf15e87c68d804e78a8-178578bad0b90f28768b2e80f2688fa778c9eaa6a5b44b1043272622f95ec888/atlas/atlas_minimal_contact.urdf:560: warning: The tag 'safety_controller' found as a child of 'joint' is currently unsupported and will be ignored.\n",
      "WARNING:drake:/private/var/tmp/.cache_bernhardpg/drake/package_map/49284e3afc7c6ccd80b0c605f070c53ef0bb5d1d96330cf15e87c68d804e78a8-178578bad0b90f28768b2e80f2688fa778c9eaa6a5b44b1043272622f95ec888/atlas/atlas_minimal_contact.urdf:569: warning: The tag 'safety_controller' found as a child of 'joint' is currently unsupported and will be ignored.\n",
      "WARNING:drake:/private/var/tmp/.cache_bernhardpg/drake/package_map/49284e3afc7c6ccd80b0c605f070c53ef0bb5d1d96330cf15e87c68d804e78a8-178578bad0b90f28768b2e80f2688fa778c9eaa6a5b44b1043272622f95ec888/atlas/atlas_minimal_contact.urdf:578: warning: The tag 'safety_controller' found as a child of 'joint' is currently unsupported and will be ignored.\n",
      "WARNING:drake:/private/var/tmp/.cache_bernhardpg/drake/package_map/49284e3afc7c6ccd80b0c605f070c53ef0bb5d1d96330cf15e87c68d804e78a8-178578bad0b90f28768b2e80f2688fa778c9eaa6a5b44b1043272622f95ec888/atlas/atlas_minimal_contact.urdf:587: warning: The tag 'safety_controller' found as a child of 'joint' is currently unsupported and will be ignored.\n",
      "WARNING:drake:/private/var/tmp/.cache_bernhardpg/drake/package_map/49284e3afc7c6ccd80b0c605f070c53ef0bb5d1d96330cf15e87c68d804e78a8-178578bad0b90f28768b2e80f2688fa778c9eaa6a5b44b1043272622f95ec888/atlas/atlas_minimal_contact.urdf:596: warning: The tag 'safety_controller' found as a child of 'joint' is currently unsupported and will be ignored.\n",
      "WARNING:drake:/private/var/tmp/.cache_bernhardpg/drake/package_map/49284e3afc7c6ccd80b0c605f070c53ef0bb5d1d96330cf15e87c68d804e78a8-178578bad0b90f28768b2e80f2688fa778c9eaa6a5b44b1043272622f95ec888/atlas/atlas_minimal_contact.urdf:605: warning: The tag 'safety_controller' found as a child of 'joint' is currently unsupported and will be ignored.\n",
      "WARNING:drake:/private/var/tmp/.cache_bernhardpg/drake/package_map/49284e3afc7c6ccd80b0c605f070c53ef0bb5d1d96330cf15e87c68d804e78a8-178578bad0b90f28768b2e80f2688fa778c9eaa6a5b44b1043272622f95ec888/atlas/atlas_minimal_contact.urdf:614: warning: The tag 'safety_controller' found as a child of 'joint' is currently unsupported and will be ignored.\n",
      "WARNING:drake:/private/var/tmp/.cache_bernhardpg/drake/package_map/49284e3afc7c6ccd80b0c605f070c53ef0bb5d1d96330cf15e87c68d804e78a8-178578bad0b90f28768b2e80f2688fa778c9eaa6a5b44b1043272622f95ec888/atlas/atlas_minimal_contact.urdf:623: warning: The tag 'safety_controller' found as a child of 'joint' is currently unsupported and will be ignored.\n",
      "WARNING:drake:/private/var/tmp/.cache_bernhardpg/drake/package_map/49284e3afc7c6ccd80b0c605f070c53ef0bb5d1d96330cf15e87c68d804e78a8-178578bad0b90f28768b2e80f2688fa778c9eaa6a5b44b1043272622f95ec888/atlas/atlas_minimal_contact.urdf:632: warning: The tag 'safety_controller' found as a child of 'joint' is currently unsupported and will be ignored.\n",
      "WARNING:drake:/private/var/tmp/.cache_bernhardpg/drake/package_map/49284e3afc7c6ccd80b0c605f070c53ef0bb5d1d96330cf15e87c68d804e78a8-178578bad0b90f28768b2e80f2688fa778c9eaa6a5b44b1043272622f95ec888/atlas/atlas_minimal_contact.urdf:641: warning: The tag 'safety_controller' found as a child of 'joint' is currently unsupported and will be ignored.\n",
      "WARNING:drake:/private/var/tmp/.cache_bernhardpg/drake/package_map/49284e3afc7c6ccd80b0c605f070c53ef0bb5d1d96330cf15e87c68d804e78a8-178578bad0b90f28768b2e80f2688fa778c9eaa6a5b44b1043272622f95ec888/atlas/atlas_minimal_contact.urdf:650: warning: The tag 'safety_controller' found as a child of 'joint' is currently unsupported and will be ignored.\n",
      "WARNING:drake:/private/var/tmp/.cache_bernhardpg/drake/package_map/49284e3afc7c6ccd80b0c605f070c53ef0bb5d1d96330cf15e87c68d804e78a8-178578bad0b90f28768b2e80f2688fa778c9eaa6a5b44b1043272622f95ec888/atlas/atlas_minimal_contact.urdf:659: warning: The tag 'safety_controller' found as a child of 'joint' is currently unsupported and will be ignored.\n",
      "WARNING:drake:/private/var/tmp/.cache_bernhardpg/drake/package_map/49284e3afc7c6ccd80b0c605f070c53ef0bb5d1d96330cf15e87c68d804e78a8-178578bad0b90f28768b2e80f2688fa778c9eaa6a5b44b1043272622f95ec888/atlas/atlas_minimal_contact.urdf:668: warning: The tag 'safety_controller' found as a child of 'joint' is currently unsupported and will be ignored.\n",
      "WARNING:drake:/private/var/tmp/.cache_bernhardpg/drake/package_map/49284e3afc7c6ccd80b0c605f070c53ef0bb5d1d96330cf15e87c68d804e78a8-178578bad0b90f28768b2e80f2688fa778c9eaa6a5b44b1043272622f95ec888/atlas/atlas_minimal_contact.urdf:677: warning: The tag 'safety_controller' found as a child of 'joint' is currently unsupported and will be ignored.\n",
      "WARNING:drake:/private/var/tmp/.cache_bernhardpg/drake/package_map/49284e3afc7c6ccd80b0c605f070c53ef0bb5d1d96330cf15e87c68d804e78a8-178578bad0b90f28768b2e80f2688fa778c9eaa6a5b44b1043272622f95ec888/atlas/atlas_minimal_contact.urdf:686: warning: The tag 'safety_controller' found as a child of 'joint' is currently unsupported and will be ignored.\n",
      "WARNING:drake:/private/var/tmp/.cache_bernhardpg/drake/package_map/49284e3afc7c6ccd80b0c605f070c53ef0bb5d1d96330cf15e87c68d804e78a8-178578bad0b90f28768b2e80f2688fa778c9eaa6a5b44b1043272622f95ec888/atlas/atlas_minimal_contact.urdf:695: warning: The tag 'safety_controller' found as a child of 'joint' is currently unsupported and will be ignored.\n",
      "WARNING:drake:/private/var/tmp/.cache_bernhardpg/drake/package_map/49284e3afc7c6ccd80b0c605f070c53ef0bb5d1d96330cf15e87c68d804e78a8-178578bad0b90f28768b2e80f2688fa778c9eaa6a5b44b1043272622f95ec888/atlas/atlas_minimal_contact.urdf:704: warning: The tag 'safety_controller' found as a child of 'joint' is currently unsupported and will be ignored.\n",
      "WARNING:drake:/private/var/tmp/.cache_bernhardpg/drake/package_map/49284e3afc7c6ccd80b0c605f070c53ef0bb5d1d96330cf15e87c68d804e78a8-178578bad0b90f28768b2e80f2688fa778c9eaa6a5b44b1043272622f95ec888/atlas/atlas_minimal_contact.urdf:713: warning: The tag 'safety_controller' found as a child of 'joint' is currently unsupported and will be ignored.\n",
      "WARNING:drake:/private/var/tmp/.cache_bernhardpg/drake/package_map/49284e3afc7c6ccd80b0c605f070c53ef0bb5d1d96330cf15e87c68d804e78a8-178578bad0b90f28768b2e80f2688fa778c9eaa6a5b44b1043272622f95ec888/atlas/atlas_minimal_contact.urdf:722: warning: The tag 'safety_controller' found as a child of 'joint' is currently unsupported and will be ignored.\n",
      "WARNING:drake:/private/var/tmp/.cache_bernhardpg/drake/package_map/49284e3afc7c6ccd80b0c605f070c53ef0bb5d1d96330cf15e87c68d804e78a8-178578bad0b90f28768b2e80f2688fa778c9eaa6a5b44b1043272622f95ec888/atlas/atlas_minimal_contact.urdf:731: warning: The tag 'safety_controller' found as a child of 'joint' is currently unsupported and will be ignored.\n",
      "WARNING:drake:/private/var/tmp/.cache_bernhardpg/drake/package_map/49284e3afc7c6ccd80b0c605f070c53ef0bb5d1d96330cf15e87c68d804e78a8-178578bad0b90f28768b2e80f2688fa778c9eaa6a5b44b1043272622f95ec888/atlas/atlas_minimal_contact.urdf:740: warning: The tag 'safety_controller' found as a child of 'joint' is currently unsupported and will be ignored.\n",
      "WARNING:drake:/private/var/tmp/.cache_bernhardpg/drake/package_map/49284e3afc7c6ccd80b0c605f070c53ef0bb5d1d96330cf15e87c68d804e78a8-178578bad0b90f28768b2e80f2688fa778c9eaa6a5b44b1043272622f95ec888/atlas/atlas_minimal_contact.urdf:749: warning: The tag 'safety_controller' found as a child of 'joint' is currently unsupported and will be ignored.\n",
      "WARNING:drake:/private/var/tmp/.cache_bernhardpg/drake/package_map/49284e3afc7c6ccd80b0c605f070c53ef0bb5d1d96330cf15e87c68d804e78a8-178578bad0b90f28768b2e80f2688fa778c9eaa6a5b44b1043272622f95ec888/atlas/atlas_minimal_contact.urdf:758: warning: The tag 'safety_controller' found as a child of 'joint' is currently unsupported and will be ignored.\n",
      "WARNING:drake:/private/var/tmp/.cache_bernhardpg/drake/package_map/49284e3afc7c6ccd80b0c605f070c53ef0bb5d1d96330cf15e87c68d804e78a8-178578bad0b90f28768b2e80f2688fa778c9eaa6a5b44b1043272622f95ec888/atlas/atlas_minimal_contact.urdf:767: warning: The tag 'safety_controller' found as a child of 'joint' is currently unsupported and will be ignored.\n",
      "WARNING:drake:/private/var/tmp/.cache_bernhardpg/drake/package_map/49284e3afc7c6ccd80b0c605f070c53ef0bb5d1d96330cf15e87c68d804e78a8-178578bad0b90f28768b2e80f2688fa778c9eaa6a5b44b1043272622f95ec888/atlas/atlas_minimal_contact.urdf:776: warning: The tag 'safety_controller' found as a child of 'joint' is currently unsupported and will be ignored.\n",
      "WARNING:drake:/private/var/tmp/.cache_bernhardpg/drake/package_map/49284e3afc7c6ccd80b0c605f070c53ef0bb5d1d96330cf15e87c68d804e78a8-178578bad0b90f28768b2e80f2688fa778c9eaa6a5b44b1043272622f95ec888/atlas/atlas_minimal_contact.urdf:785: warning: The tag 'safety_controller' found as a child of 'joint' is currently unsupported and will be ignored.\n",
      "WARNING:drake:/private/var/tmp/.cache_bernhardpg/drake/package_map/49284e3afc7c6ccd80b0c605f070c53ef0bb5d1d96330cf15e87c68d804e78a8-178578bad0b90f28768b2e80f2688fa778c9eaa6a5b44b1043272622f95ec888/atlas/atlas_minimal_contact.urdf:794: warning: The tag 'safety_controller' found as a child of 'joint' is currently unsupported and will be ignored.\n",
      "WARNING:drake:/private/var/tmp/.cache_bernhardpg/drake/package_map/49284e3afc7c6ccd80b0c605f070c53ef0bb5d1d96330cf15e87c68d804e78a8-178578bad0b90f28768b2e80f2688fa778c9eaa6a5b44b1043272622f95ec888/atlas/atlas_minimal_contact.urdf:803: warning: The tag 'safety_controller' found as a child of 'joint' is currently unsupported and will be ignored.\n",
      "WARNING:drake:/private/var/tmp/.cache_bernhardpg/drake/package_map/49284e3afc7c6ccd80b0c605f070c53ef0bb5d1d96330cf15e87c68d804e78a8-178578bad0b90f28768b2e80f2688fa778c9eaa6a5b44b1043272622f95ec888/atlas/atlas_minimal_contact.urdf:812: warning: The tag 'safety_controller' found as a child of 'joint' is currently unsupported and will be ignored.\n",
      "WARNING:drake:/private/var/tmp/.cache_bernhardpg/drake/package_map/49284e3afc7c6ccd80b0c605f070c53ef0bb5d1d96330cf15e87c68d804e78a8-178578bad0b90f28768b2e80f2688fa778c9eaa6a5b44b1043272622f95ec888/atlas/atlas_minimal_contact.urdf:821: warning: The tag 'safety_controller' found as a child of 'joint' is currently unsupported and will be ignored.\n",
      "WARNING:drake:/private/var/tmp/.cache_bernhardpg/drake/package_map/49284e3afc7c6ccd80b0c605f070c53ef0bb5d1d96330cf15e87c68d804e78a8-178578bad0b90f28768b2e80f2688fa778c9eaa6a5b44b1043272622f95ec888/atlas/atlas_minimal_contact.urdf:1219: warning: Skipping transmission since it's attached to a fixed joint \"hokuyo_joint\".\n"
     ]
    }
   ],
   "source": [
    "from humanoid_footstep_ik.visualizer import set_atlas_positions, set_feet_positions\n",
    "\n",
    "robot_z_rotation = -np.pi/2\n",
    "\n",
    "set_feet_positions(plant_context, traj, viz_feet, robot_z_rotation)\n",
    "# NOTE: With the current plan, IK is not solving if we also enforce com position\n",
    "set_atlas_positions(\n",
    "    plant_context, traj, viz_atlases, indices_to_visualize, robot_z_rotation, force_com=False\n",
    ")\n",
    "\n",
    "# Advance the simulator to update the positions etc (to make it possible to rerun this cell)\n",
    "simulator.AdvanceTo(time)\n",
    "time += 0.01"
   ]
  }
 ],
 "metadata": {
  "kernelspec": {
   "display_name": ".venv",
   "language": "python",
   "name": "python3"
  },
  "language_info": {
   "codemirror_mode": {
    "name": "ipython",
    "version": 3
   },
   "file_extension": ".py",
   "mimetype": "text/x-python",
   "name": "python",
   "nbconvert_exporter": "python",
   "pygments_lexer": "ipython3",
   "version": "3.11.10"
  }
 },
 "nbformat": 4,
 "nbformat_minor": 2
}
